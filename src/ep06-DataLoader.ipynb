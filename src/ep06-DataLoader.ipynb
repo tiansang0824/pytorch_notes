{
 "cells": [
  {
   "metadata": {},
   "cell_type": "markdown",
   "source": "# DataLoader使用\n",
   "id": "abef731e831151b7"
  },
  {
   "metadata": {
    "ExecuteTime": {
     "end_time": "2024-07-18T02:18:18.724949Z",
     "start_time": "2024-07-18T02:18:18.718301Z"
    }
   },
   "cell_type": "code",
   "source": [
    "import torch.utils.data\n",
    "import torchvision\n",
    "from torch.utils.tensorboard import SummaryWriter\n",
    "\n"
   ],
   "id": "1eb95c524434a3fc",
   "outputs": [],
   "execution_count": 12
  },
  {
   "metadata": {
    "ExecuteTime": {
     "end_time": "2024-07-18T02:18:49.063330Z",
     "start_time": "2024-07-18T02:18:18.727038Z"
    }
   },
   "cell_type": "code",
   "source": [
    "# 准备测试数据集\n",
    "dataset_cifar10 = torchvision.datasets.CIFAR10(root='../dataset', train=False,\n",
    "                                               transform=torchvision.transforms.ToTensor(), download=True, )\n",
    "\n",
    "# 创建DataLoader\n",
    "my_loader = torch.utils.data.DataLoader(\n",
    "    dataset=dataset_cifar10,  # 定义数据集\n",
    "    batch_size=64,  # 每一批的数据梳理\n",
    "    shuffle=True,  # 是否打乱顺序\n",
    "    num_workers=2,  # 子进程数量\n",
    "    drop_last=False  # 不删除最后一个元素\n",
    ")\n",
    "\n",
    "img, target = dataset_cifar10[0]\n",
    "print(img.shape, target)\n",
    "\n",
    "writer = SummaryWriter(log_dir='../logs/cifar10')  # 创建一个SummaryWriter\n",
    "\n",
    "for epoch in range(2):\n",
    "    step=0\n",
    "    for data in my_loader:\n",
    "        imgs, targets = data\n",
    "        # print(f'imgs.shape: {imgs.shape}; targets: {targets}')\n",
    "        writer.add_images(f'epoch:{epoch}', imgs, step)\n",
    "        step+=1\n",
    "    "
   ],
   "id": "7a614a0d3ddc5f4",
   "outputs": [
    {
     "name": "stdout",
     "output_type": "stream",
     "text": [
      "Files already downloaded and verified\n",
      "torch.Size([3, 32, 32]) 3\n"
     ]
    }
   ],
   "execution_count": 13
  },
  {
   "metadata": {
    "ExecuteTime": {
     "end_time": "2024-07-18T02:18:49.079343Z",
     "start_time": "2024-07-18T02:18:49.064332Z"
    }
   },
   "cell_type": "code",
   "source": "",
   "id": "f69734fc9c185d61",
   "outputs": [],
   "execution_count": 13
  }
 ],
 "metadata": {
  "kernelspec": {
   "display_name": "Python 3",
   "language": "python",
   "name": "python3"
  },
  "language_info": {
   "codemirror_mode": {
    "name": "ipython",
    "version": 2
   },
   "file_extension": ".py",
   "mimetype": "text/x-python",
   "name": "python",
   "nbconvert_exporter": "python",
   "pygments_lexer": "ipython2",
   "version": "2.7.6"
  }
 },
 "nbformat": 4,
 "nbformat_minor": 5
}
