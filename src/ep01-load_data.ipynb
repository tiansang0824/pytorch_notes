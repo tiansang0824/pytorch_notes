{
 "cells": [
  {
   "metadata": {},
   "cell_type": "markdown",
   "source": "# 数据加载\n",
   "id": "711d06609686836e"
  },
  {
   "metadata": {},
   "cell_type": "markdown",
   "source": [
    "PyTorch中有两种数据存储方式，分别是Dataset和DataLoader。其中：\n",
    "\n",
    "- Dataset提供了一种方式获取数据及其Label值。\n",
    "- DataLoader可以对数据进行打包，为网络提供不同的数据形式。\n",
    "\n",
    "**对于Dataset：**\n",
    "\n",
    "如何获取每一个数据及其Label？\n",
    "\n",
    "\n",
    "\n",
    "告诉我们一共有多少数据？\n",
    "\n",
    "\n"
   ],
   "id": "9f643e51f8822a6b"
  },
  {
   "metadata": {
    "ExecuteTime": {
     "end_time": "2024-07-16T11:38:17.990884Z",
     "start_time": "2024-07-16T11:38:17.987007Z"
    }
   },
   "cell_type": "code",
   "source": [
    "from torch.utils.data import Dataset\n",
    "from PIL import Image\n",
    "import os\n"
   ],
   "id": "2cbb5cf0b96c2dff",
   "outputs": [],
   "execution_count": 30
  },
  {
   "metadata": {
    "ExecuteTime": {
     "end_time": "2024-07-16T16:03:00.139235Z",
     "start_time": "2024-07-16T16:02:58.796305Z"
    }
   },
   "cell_type": "code",
   "source": [
    "#\n",
    "# 本代码块仅用于展示函数功能。\n",
    "#\n",
    "\n",
    "root_dir = 'dataset/hymenoptera_data/train'  # 一般情况，root_dir会选择外层的路径\n",
    "label_dir = 'ants'  # 而标签路径是其中一个名字\n",
    "ants_dir = os.path.join(root_dir, label_dir)  # 通过路径叠加，找到某个标签下面的内容。\n",
    "# 注意，为了避免不同系统路径格式不同导致代码出错，建议使用os.path.join()，以防出现问题。\n"
   ],
   "id": "3060ce8d531f64c2",
   "outputs": [
    {
     "name": "stderr",
     "output_type": "stream",
     "text": [
      "\n",
      "KeyboardInterrupt\n",
      "\n"
     ]
    }
   ],
   "execution_count": 1
  },
  {
   "metadata": {
    "ExecuteTime": {
     "end_time": "2024-07-16T11:38:18.047921Z",
     "start_time": "2024-07-16T11:38:18.041857Z"
    }
   },
   "cell_type": "code",
   "source": [
    "class MyDataset(Dataset):\n",
    "    def __init__(self, root_dir, label_dir):\n",
    "        self.root_dir = root_dir  # 读取数据集根路径\n",
    "        self.label_dir = label_dir  # 读取标签路径\n",
    "        self.path = os.path.join(self.root_dir, self.label_dir)  # 合成数据集路径\n",
    "        self.img_path_list = os.listdir(self.path)  # 所有蚂蚁图片的地址\n",
    "\n",
    "    def __getitem__(self, idx):\n",
    "        \"\"\"\n",
    "        获取数据集中的数据\n",
    "        :param idx: 数据索引\n",
    "        :return: 返回目标图片以及对应的标签\n",
    "        \"\"\"\n",
    "        img_name = self.img_path_list[idx]  # 获取图片名字\n",
    "        img_item_path = os.path.join(self.root_dir, self.label_dir, img_name)  # 获取全部路径\n",
    "        img = Image.open(img_item_path)  # 通过PIL保存图片\n",
    "        label = self.label_dir  # 获取标签\n",
    "        return img, label  # 返回值\n",
    "\n",
    "    def __len__(self):\n",
    "        \"\"\"\n",
    "        返回数据集长度\n",
    "        :return: \n",
    "        \"\"\"\n",
    "        return len(self.img_path_list)\n",
    "    "
   ],
   "id": "1ee651326dd992c7",
   "outputs": [],
   "execution_count": 32
  },
  {
   "metadata": {
    "ExecuteTime": {
     "end_time": "2024-07-16T11:38:18.056853Z",
     "start_time": "2024-07-16T11:38:18.050935Z"
    }
   },
   "cell_type": "code",
   "source": [
    "# 定义一个根目录路径\n",
    "root_dir = '../dataset/hymenoptera_data/train'\n",
    "\n",
    "# 定义蚂蚁标签路径\n",
    "ants_label_dir = 'ants'\n",
    "ants_dataset = MyDataset(root_dir, ants_label_dir)  # 创建蚂蚁数据集\n",
    "\n",
    "len(ants_dataset)"
   ],
   "id": "63c43cb6f2452a92",
   "outputs": [
    {
     "data": {
      "text/plain": [
       "124"
      ]
     },
     "execution_count": 33,
     "metadata": {},
     "output_type": "execute_result"
    }
   ],
   "execution_count": 33
  },
  {
   "metadata": {
    "ExecuteTime": {
     "end_time": "2024-07-16T11:38:18.065537Z",
     "start_time": "2024-07-16T11:38:18.058878Z"
    }
   },
   "cell_type": "code",
   "source": [
    "# 定义蜜蜂标签路径\n",
    "bee_label_dir = \"bees\"\n",
    "bees_dataset = MyDataset(root_dir, bee_label_dir)  # 创建蜜蜂数据集\n",
    "\n",
    "len(bees_dataset)\n"
   ],
   "id": "45dc10ac7d7fe08b",
   "outputs": [
    {
     "data": {
      "text/plain": [
       "121"
      ]
     },
     "execution_count": 34,
     "metadata": {},
     "output_type": "execute_result"
    }
   ],
   "execution_count": 34
  },
  {
   "metadata": {
    "ExecuteTime": {
     "end_time": "2024-07-16T11:38:18.079657Z",
     "start_time": "2024-07-16T11:38:18.072852Z"
    }
   },
   "cell_type": "code",
   "source": [
    "# 测试一下获取数据的功能。\n",
    "print(f\"peak one ant: {ants_dataset[1]}\")\n",
    "print(f\"peak one bee: {bees_dataset[1]}\")"
   ],
   "id": "5b7ed47449f729e4",
   "outputs": [
    {
     "name": "stdout",
     "output_type": "stream",
     "text": [
      "peak one ant: (<PIL.JpegImagePlugin.JpegImageFile image mode=RGB size=500x333 at 0x253BEF657F0>, 'ants')\n",
      "peak one bee: (<PIL.JpegImagePlugin.JpegImageFile image mode=RGB size=500x333 at 0x253BEF657F0>, 'bees')\n"
     ]
    }
   ],
   "execution_count": 35
  },
  {
   "metadata": {
    "ExecuteTime": {
     "end_time": "2024-07-16T11:38:18.095235Z",
     "start_time": "2024-07-16T11:38:18.092183Z"
    }
   },
   "cell_type": "code",
   "source": [
    "#\n",
    "# 数据集是可以通过加法进行合并的\n",
    "#\n",
    "# 这种方法可以用于在原始数据集中添加仿造数据集，或者获取整体数据集中的子数据集。\n",
    "#\n",
    "train_dataset = ants_dataset + bees_dataset  # 合并数据集\n",
    "# 通过上述方法合并数据集后，新的数据集是原来数据集的加和，且前一半是蚂蚁数据集，后一半是蜜蜂数据集。\n",
    "\n"
   ],
   "id": "5cbb838c540f5487",
   "outputs": [],
   "execution_count": 35
  }
 ],
 "metadata": {
  "kernelspec": {
   "display_name": "Python 3",
   "language": "python",
   "name": "python3"
  },
  "language_info": {
   "codemirror_mode": {
    "name": "ipython",
    "version": 2
   },
   "file_extension": ".py",
   "mimetype": "text/x-python",
   "name": "python",
   "nbconvert_exporter": "python",
   "pygments_lexer": "ipython2",
   "version": "2.7.6"
  }
 },
 "nbformat": 4,
 "nbformat_minor": 5
}
