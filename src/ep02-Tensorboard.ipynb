{
 "cells": [
  {
   "metadata": {},
   "cell_type": "markdown",
   "source": [
    "# TensorBoard的使用\n",
    "\n"
   ],
   "id": "7890dad1c40b71e0"
  },
  {
   "metadata": {
    "ExecuteTime": {
     "end_time": "2024-07-17T02:59:27.419602Z",
     "start_time": "2024-07-17T02:59:27.405231Z"
    }
   },
   "cell_type": "code",
   "source": [
    "from torch.utils.tensorboard import SummaryWriter\n",
    "from collections.abc import Mapping"
   ],
   "id": "cd5af95f790fa95e",
   "outputs": [],
   "execution_count": 30
  },
  {
   "metadata": {},
   "cell_type": "markdown",
   "source": [
    "SummaryWriter用于向指定路径中写入日志。\n",
    "\n",
    "当启动Tensorboard以后，将会把SummaryWriter写入的内容以图表的形式表示出来，并试图自动拟合。\n",
    "\n",
    "当使用Writer添加内容的时候，需要一个`tag`属性，该属性可以理解为对应的表，修改`tag`后添加数据，将会在新的表中添加和绘制数据；\n",
    "反之如果不修改`tag`，那么会把多次写入的内容都添加到同一个图表中。\n",
    "\n",
    "当存在多个不同的函数的时候，Tensorboard拟合数据可能会出错（会拟合出奇怪的东西来），解决方法如下：\n",
    "\n",
    "1. 删除logs中的内容，让程序从头开始记录log；\n",
    "2. 创建SummaryWriter的时候，直接将目标地址设置到`/logs`的子文件夹，对于每个模型测试，都创建一个这样的子文件夹，以区别内容。\n",
    "\n",
    "注意，当启动Tensorboard的时候，如果logdir设置为总体的logs根目录，将会读取该目录下所有的内容以及子目录的内容。\n"
   ],
   "id": "8e145f8e62f79324"
  },
  {
   "metadata": {
    "ExecuteTime": {
     "end_time": "2024-07-17T02:59:27.481511Z",
     "start_time": "2024-07-17T02:59:27.422741Z"
    }
   },
   "cell_type": "code",
   "source": [
    "writer = SummaryWriter('../logs/math')  # 创建一个SummaryWriter实例\n",
    "\n",
    "# writer.add_image()\n",
    "# 该函数用于添加一个scalar，其中，tag可以认为是图像的标题、scalar_value可以认为是y轴、global_step是x轴。\n",
    "# writer.add_scalar(tag='loss', scalar_value=2.0, global_step=5000)\n",
    "# \n",
    "# Tensorboard会试图自动拟合写入的数据。\n",
    "# \n",
    "\n",
    "for i in range(0,100):\n",
    "    writer.add_scalar(tag='y=2x', scalar_value=3*i, global_step=i)\n",
    "\n",
    "writer.close()"
   ],
   "id": "a543a77dd8960b76",
   "outputs": [],
   "execution_count": 31
  },
  {
   "metadata": {},
   "cell_type": "markdown",
   "source": [
    "使用writer添加图片的时候，要求图片的格式必须是`torch.Tensor, numpy.ndarray, or string/blobname`中的一种，\n",
    "而使用PIL读取的图片，一般是`<class 'PIL.JpegImagePlugin.JpegImageFile'>`，所以不可以直接使用。（这一点会在后面几个代码块说明）\n",
    "\n",
    "此外，也可以使用numpy型的数据，这样需要使用OpenCV读取图片。\n",
    "\n"
   ],
   "id": "3a0da5e444ada347"
  },
  {
   "metadata": {
    "ExecuteTime": {
     "end_time": "2024-07-17T02:59:27.651540Z",
     "start_time": "2024-07-17T02:59:27.483025Z"
    }
   },
   "cell_type": "code",
   "source": [
    "\"\"\"\n",
    "本代码块中，通过PIL读取图片，然后用Numpy将其转换为ndarray格式，传入SummaryWriter。\n",
    "\"\"\"\n",
    "from PIL import Image\n",
    "import numpy as np\n",
    "\n",
    "img_path = '../dataset/hymenoptera_data/train/ants/0013035.jpg'  # 图片路径\n",
    "img_PIL = Image.open(img_path)  # PIL读取图片\n",
    "img_arr = np.array(img_PIL)  # 转换为Numpy ndarray格式\n",
    "print(type(img_arr),img_arr.shape)  # 做一个验证\n",
    "\n",
    "# 创建一个writer\n",
    "writer = SummaryWriter('../logs/test')\n",
    "\n",
    "# 添加图片\n",
    "# 因为转换来的图片格式与`add_image()`的要求不同，所以需要额外指定`dataformats`参数，详情可以参考函数定义注解。\n",
    "writer.add_image('ant_image', img_arr, global_step=1, dataformats='HWC')\n"
   ],
   "id": "abccc466f25a6bfc",
   "outputs": [
    {
     "name": "stdout",
     "output_type": "stream",
     "text": [
      "<class 'numpy.ndarray'> (512, 768, 3)\n"
     ]
    }
   ],
   "execution_count": 32
  },
  {
   "metadata": {
    "ExecuteTime": {
     "end_time": "2024-07-17T02:59:27.850745Z",
     "start_time": "2024-07-17T02:59:27.653677Z"
    }
   },
   "cell_type": "code",
   "source": [
    "\"\"\"\n",
    "这个代码块中，使用OpenCV读取图片\n",
    "\"\"\"\n",
    "import cv2\n",
    "\n",
    "img_path = '../dataset/hymenoptera_data/train/bees/16838648_415acd9e3f.jpg'  # 图片路径\n",
    "\n",
    "img_cv = cv2.imread(filename=img_path)  # OpenCV读取图片，读取到的是BGR格式，需要转换回RGB格式\n",
    "# type(img_cv),img_cv.shape  # 数据格式为HWC，在使用writer的时候也需要额外设置数据格式\n",
    "print(type(img_cv),img_cv.shape)\n",
    "img = cv2.cvtColor(img_cv,cv2.COLOR_BGR2RGB)\n",
    "\n",
    "writer = SummaryWriter('../logs/test_bee')\n",
    "writer.add_image('bee_image', img, global_step=1, dataformats='HWC')\n"
   ],
   "id": "e7369ebbd51c1621",
   "outputs": [
    {
     "name": "stdout",
     "output_type": "stream",
     "text": [
      "<class 'numpy.ndarray'> (450, 500, 3)\n"
     ]
    }
   ],
   "execution_count": 33
  }
 ],
 "metadata": {
  "kernelspec": {
   "display_name": "Python 3",
   "language": "python",
   "name": "python3"
  },
  "language_info": {
   "codemirror_mode": {
    "name": "ipython",
    "version": 2
   },
   "file_extension": ".py",
   "mimetype": "text/x-python",
   "name": "python",
   "nbconvert_exporter": "python",
   "pygments_lexer": "ipython2",
   "version": "2.7.6"
  }
 },
 "nbformat": 4,
 "nbformat_minor": 5
}
