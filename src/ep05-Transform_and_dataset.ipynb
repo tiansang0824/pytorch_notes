{
 "cells": [
  {
   "metadata": {},
   "cell_type": "markdown",
   "source": "# Transforms和数据集的使用\n",
   "id": "1ad02f71ebbda642"
  },
  {
   "metadata": {
    "ExecuteTime": {
     "end_time": "2024-07-17T09:39:14.812707Z",
     "start_time": "2024-07-17T09:39:13.187078Z"
    }
   },
   "cell_type": "code",
   "source": [
    "import torchvision\n",
    "from torch.utils.tensorboard import SummaryWriter\n",
    "from torchvision import transforms\n",
    "\n",
    "dataset_transform = transforms.Compose([\n",
    "    transforms.ToTensor(),\n",
    "])  # 数据转换方法\n",
    "\n",
    "train_set = torchvision.datasets.CIFAR10(root='../dataset/', train=True, transform=dataset_transform, download=True)\n",
    "test_set = torchvision.datasets.CIFAR10(root='../dataset/', train=False, transform=dataset_transform, download=True)\n",
    "\n",
    "print(f'train_set:{train_set}')\n",
    "\n",
    "print(f'train_set[0]: {train_set[0]}')\n"
   ],
   "id": "2cda407726a2fd31",
   "outputs": [
    {
     "name": "stdout",
     "output_type": "stream",
     "text": [
      "Files already downloaded and verified\n",
      "Files already downloaded and verified\n",
      "train_set:Dataset CIFAR10\n",
      "    Number of datapoints: 50000\n",
      "    Root location: ../dataset/\n",
      "    Split: Train\n",
      "    StandardTransform\n",
      "Transform: Compose(\n",
      "               ToTensor()\n",
      "           )\n",
      "train_set[0]: (tensor([[[0.2314, 0.1686, 0.1961,  ..., 0.6196, 0.5961, 0.5804],\n",
      "         [0.0627, 0.0000, 0.0706,  ..., 0.4824, 0.4667, 0.4784],\n",
      "         [0.0980, 0.0627, 0.1922,  ..., 0.4627, 0.4706, 0.4275],\n",
      "         ...,\n",
      "         [0.8157, 0.7882, 0.7765,  ..., 0.6275, 0.2196, 0.2078],\n",
      "         [0.7059, 0.6784, 0.7294,  ..., 0.7216, 0.3804, 0.3255],\n",
      "         [0.6941, 0.6588, 0.7020,  ..., 0.8471, 0.5922, 0.4824]],\n",
      "\n",
      "        [[0.2431, 0.1804, 0.1882,  ..., 0.5176, 0.4902, 0.4863],\n",
      "         [0.0784, 0.0000, 0.0314,  ..., 0.3451, 0.3255, 0.3412],\n",
      "         [0.0941, 0.0275, 0.1059,  ..., 0.3294, 0.3294, 0.2863],\n",
      "         ...,\n",
      "         [0.6667, 0.6000, 0.6314,  ..., 0.5216, 0.1216, 0.1333],\n",
      "         [0.5451, 0.4824, 0.5647,  ..., 0.5804, 0.2431, 0.2078],\n",
      "         [0.5647, 0.5059, 0.5569,  ..., 0.7216, 0.4627, 0.3608]],\n",
      "\n",
      "        [[0.2471, 0.1765, 0.1686,  ..., 0.4235, 0.4000, 0.4039],\n",
      "         [0.0784, 0.0000, 0.0000,  ..., 0.2157, 0.1961, 0.2235],\n",
      "         [0.0824, 0.0000, 0.0314,  ..., 0.1961, 0.1961, 0.1647],\n",
      "         ...,\n",
      "         [0.3765, 0.1333, 0.1020,  ..., 0.2745, 0.0275, 0.0784],\n",
      "         [0.3765, 0.1647, 0.1176,  ..., 0.3686, 0.1333, 0.1333],\n",
      "         [0.4549, 0.3686, 0.3412,  ..., 0.5490, 0.3294, 0.2824]]]), 6)\n"
     ]
    }
   ],
   "execution_count": 13
  },
  {
   "metadata": {
    "ExecuteTime": {
     "end_time": "2024-07-17T09:39:15.013688Z",
     "start_time": "2024-07-17T09:39:14.817430Z"
    }
   },
   "cell_type": "code",
   "source": [
    "# 得到Tensor类型的数据集图片后，就可以用Tensorboard进行图片显示了\n",
    "writer=SummaryWriter(log_dir='../logs/cifar10')\n",
    "\n",
    "for i in range(0,100):\n",
    "    img, target = train_set[i]\n",
    "    writer.add_image('cifar10_train_set', img, global_step=i)\n",
    "    \n",
    "    "
   ],
   "id": "e2dd2b14869cbe6f",
   "outputs": [],
   "execution_count": 14
  },
  {
   "metadata": {
    "ExecuteTime": {
     "end_time": "2024-07-17T09:39:15.030119Z",
     "start_time": "2024-07-17T09:39:15.016192Z"
    }
   },
   "cell_type": "code",
   "source": "writer.close()",
   "id": "242a123bb11bd96b",
   "outputs": [],
   "execution_count": 15
  }
 ],
 "metadata": {
  "kernelspec": {
   "display_name": "Python 3",
   "language": "python",
   "name": "python3"
  },
  "language_info": {
   "codemirror_mode": {
    "name": "ipython",
    "version": 2
   },
   "file_extension": ".py",
   "mimetype": "text/x-python",
   "name": "python",
   "nbconvert_exporter": "python",
   "pygments_lexer": "ipython2",
   "version": "2.7.6"
  }
 },
 "nbformat": 4,
 "nbformat_minor": 5
}
