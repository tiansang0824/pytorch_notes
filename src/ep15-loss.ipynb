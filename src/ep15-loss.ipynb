{
 "cells": [
  {
   "metadata": {},
   "cell_type": "markdown",
   "source": "# 损失函数 Loss Function",
   "id": "fb01466f6422b81f"
  },
  {
   "metadata": {},
   "cell_type": "markdown",
   "source": "## L1 Loss 损失函数",
   "id": "c52510796d47df61"
  },
  {
   "cell_type": "code",
   "id": "71846fee58ff430f",
   "metadata": {
    "collapsed": true,
    "ExecuteTime": {
     "end_time": "2024-07-19T03:07:11.234219Z",
     "start_time": "2024-07-19T03:07:11.222433Z"
    }
   },
   "source": [
    "import torch\n",
    "from torch.nn import L1Loss\n",
    "\n",
    "# 定义数据\n",
    "x = torch.tensor([1, 2, 3], dtype=torch.float32)\n",
    "y = torch.tensor([1, 2, 5], dtype=torch.float32)\n",
    "# 变形\n",
    "x = torch.reshape(x, (1,1,1,3))\n",
    "y = torch.reshape(y, (1,1,1,3))"
   ],
   "outputs": [],
   "execution_count": null
  },
  {
   "metadata": {},
   "cell_type": "code",
   "outputs": [
    {
     "name": "stdout",
     "output_type": "stream",
     "text": [
      "tensor(0.6667)\n"
     ]
    }
   ],
   "execution_count": 4,
   "source": [
    "\n",
    "loss = L1Loss()\n",
    "loss_val = loss(x,y)  # 计算损失\n",
    "\n",
    "print(loss_val)  # 输出损失值\n"
   ],
   "id": "initial_id"
  },
  {
   "metadata": {},
   "cell_type": "markdown",
   "source": "## 平方差 Loss\n",
   "id": "18aa916c0be62400"
  },
  {
   "metadata": {
    "ExecuteTime": {
     "end_time": "2024-07-19T03:10:03.471218Z",
     "start_time": "2024-07-19T03:10:03.461537Z"
    }
   },
   "cell_type": "code",
   "source": [
    "import torch\n",
    "from torch.nn import MSELoss\n",
    "\n",
    "mse_loss = MSELoss()\n",
    "mse_loss_val = mse_loss(x,y)\n",
    "print(f'>> mse_loss: {mse_loss_val}')\n"
   ],
   "id": "b11e583fc3b65b67",
   "outputs": [
    {
     "name": "stdout",
     "output_type": "stream",
     "text": [
      ">> mse_loss: 1.3333333730697632\n"
     ]
    }
   ],
   "execution_count": 5
  },
  {
   "metadata": {},
   "cell_type": "markdown",
   "source": [
    "## 交叉熵损失函数\n",
    "\n",
    "下面的案例假设从三个类别中得到预测每一类的概率后的结果，以及实际的结果。\n",
    "\n",
    "通过交叉熵损失函数计算该预测的损失值。\n"
   ],
   "id": "5d8e94b4fdd8bbe9"
  },
  {
   "metadata": {
    "ExecuteTime": {
     "end_time": "2024-07-19T03:19:22.714786Z",
     "start_time": "2024-07-19T03:19:22.698470Z"
    }
   },
   "cell_type": "code",
   "source": [
    "from torch.nn import CrossEntropyLoss\n",
    "\n",
    "x = torch.tensor([0.1, 0.2, 0.3])\n",
    "y = torch.tensor([1])\n",
    "\n",
    "x = torch.reshape(x, (1,3))\n",
    "\n",
    "cross_entropy_loss = CrossEntropyLoss()\n",
    "cross_entropy_loss_val = cross_entropy_loss(x,y)\n",
    "\n",
    "print(f'>> cross_entropy_loss: {cross_entropy_loss_val}')\n"
   ],
   "id": "bc77d1427bf8223e",
   "outputs": [
    {
     "name": "stdout",
     "output_type": "stream",
     "text": [
      ">> cross_entropy_loss: 1.1019428968429565\n"
     ]
    }
   ],
   "execution_count": 6
  },
  {
   "metadata": {},
   "cell_type": "code",
   "outputs": [],
   "execution_count": null,
   "source": "",
   "id": "8086657aac9a0215"
  }
 ],
 "metadata": {
  "kernelspec": {
   "display_name": "Python 3",
   "language": "python",
   "name": "python3"
  },
  "language_info": {
   "codemirror_mode": {
    "name": "ipython",
    "version": 2
   },
   "file_extension": ".py",
   "mimetype": "text/x-python",
   "name": "python",
   "nbconvert_exporter": "python",
   "pygments_lexer": "ipython2",
   "version": "2.7.6"
  }
 },
 "nbformat": 4,
 "nbformat_minor": 5
}
