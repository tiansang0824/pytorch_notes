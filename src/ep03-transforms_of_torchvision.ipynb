{
 "cells": [
  {
   "metadata": {},
   "cell_type": "markdown",
   "source": "# torchvision中的Transforms\n",
   "id": "f348f2239bfa58ca"
  },
  {
   "metadata": {},
   "cell_type": "markdown",
   "source": "transforms.py是一个用于图片变换的工具箱。包含了PIL、ndarray、Tensor等多种格式的互相转换、正则化等功能。\n",
   "id": "f909207c39fce09e"
  },
  {
   "metadata": {},
   "cell_type": "markdown",
   "source": [
    "**数据类型Tensor**\n",
    "\n",
    "通过Transforms.ToTensor()，看待两个问题：\n",
    "\n",
    "1. Transforms如何使用？\n",
    "2. 为什么需要Tensor数据类型？\n"
   ],
   "id": "e1397dea40aa81ba"
  },
  {
   "metadata": {
    "ExecuteTime": {
     "end_time": "2024-07-17T03:27:40.545395Z",
     "start_time": "2024-07-17T03:27:40.538273Z"
    }
   },
   "cell_type": "code",
   "source": [
    "from torchvision import transforms\n",
    "from PIL import Image\n"
   ],
   "id": "4fe3aa04e87085d5",
   "outputs": [],
   "execution_count": 14
  },
  {
   "metadata": {},
   "cell_type": "markdown",
   "source": [
    "## Transforms的使用\n",
    "\n",
    "使用Transforms的一般步骤：\n",
    "\n",
    "1. 创建对应的子类，如`ToTensor`，注意是类，不是函数，因此需要先创建一个对应的实例；\n",
    "2. 通过`实例(参数)`的方法转换图片格式。\n"
   ],
   "id": "9ea9256a3bc431d8"
  },
  {
   "metadata": {
    "ExecuteTime": {
     "end_time": "2024-07-17T03:27:40.561118Z",
     "start_time": "2024-07-17T03:27:40.549727Z"
    }
   },
   "cell_type": "code",
   "source": [
    "img_path_bee = '../dataset/hymenoptera_data/train/bees/16838648_415acd9e3f.jpg'\n",
    "\n",
    "img_pil = Image.open(img_path_bee)\n",
    "print(type(img_pil))  # <class 'PIL.JpegImagePlugin.JpegImageFile'>\n",
    "\n",
    "tensor_trans = transforms.ToTensor()  # 创建一个对象\n",
    "tensor_img = tensor_trans(img_pil)\n",
    "print(type(tensor_img))  # <class 'torch.Tensor'>\n"
   ],
   "id": "f31f87d5ac33a898",
   "outputs": [
    {
     "name": "stdout",
     "output_type": "stream",
     "text": [
      "<class 'PIL.JpegImagePlugin.JpegImageFile'>\n",
      "<class 'torch.Tensor'>\n"
     ]
    }
   ],
   "execution_count": 15
  },
  {
   "metadata": {},
   "cell_type": "markdown",
   "source": [
    "## 为什么需要Tensor数据类型？\n",
    "\n",
    "Tensor类型包装了神经网络执行中的一些必要参数，是为神经网络量身打造的数据类型。在神经网络中基本上都使用到Tensor数据类型。\n"
   ],
   "id": "a6c67d5b256208d7"
  },
  {
   "metadata": {
    "ExecuteTime": {
     "end_time": "2024-07-17T03:27:40.577053Z",
     "start_time": "2024-07-17T03:27:40.563764Z"
    }
   },
   "cell_type": "code",
   "source": [
    "from torch.utils.tensorboard import SummaryWriter\n",
    "from torchvision import transforms\n",
    "import cv2"
   ],
   "id": "6d17963a8893ed9",
   "outputs": [],
   "execution_count": 16
  },
  {
   "metadata": {
    "ExecuteTime": {
     "end_time": "2024-07-17T03:27:40.824624Z",
     "start_time": "2024-07-17T03:27:40.579228Z"
    }
   },
   "cell_type": "code",
   "source": [
    "img_path_ant = '../dataset/hymenoptera_data/train/ants/0013035.jpg'\n",
    "\n",
    "cv_img_ant = cv2.imread(img_path_ant)  # opencv读取图片\n",
    "img_ant = cv2.cvtColor(cv_img_ant, cv2.COLOR_BGR2RGB)\n",
    "\n",
    "tensor_trans = transforms.ToTensor()  # 创建转换器\n",
    "tensor_img_ant = tensor_trans(img_ant)  # 转换图片为tensor格式\n",
    "\n",
    "writer = SummaryWriter(log_dir='../logs/test')  # 创建SummaryWriter\n",
    "writer.add_image(tag='ant_image', img_tensor=tensor_img_ant, global_step=0)\n"
   ],
   "id": "d6de02c650f5f698",
   "outputs": [],
   "execution_count": 17
  },
  {
   "metadata": {},
   "cell_type": "code",
   "outputs": [],
   "execution_count": null,
   "source": "",
   "id": "3a08c42bb6992e06"
  }
 ],
 "metadata": {
  "kernelspec": {
   "display_name": "Python 3",
   "language": "python",
   "name": "python3"
  },
  "language_info": {
   "codemirror_mode": {
    "name": "ipython",
    "version": 2
   },
   "file_extension": ".py",
   "mimetype": "text/x-python",
   "name": "python",
   "nbconvert_exporter": "python",
   "pygments_lexer": "ipython2",
   "version": "2.7.6"
  }
 },
 "nbformat": 4,
 "nbformat_minor": 5
}
