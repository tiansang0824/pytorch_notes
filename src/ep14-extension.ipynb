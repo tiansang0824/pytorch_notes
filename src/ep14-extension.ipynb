{
 "cells": [
  {
   "metadata": {},
   "cell_type": "markdown",
   "source": [
    "# 对CIFAR的实操\n",
    "\n",
    "模型结构图片如下所示：\n",
    "\n",
    "![CIFAR_nn_model_structure](./md_assets/CIFAR_model_structure.jpg)\n",
    "\n",
    "<img src='./md_assets/CIFAR_model_structure.jpg', zoom='50%'></img>\n",
    "\n",
    "通过两种方式实现模型。\n",
    "\n"
   ],
   "id": "3ba45d9a404075e8"
  },
  {
   "metadata": {
    "ExecuteTime": {
     "end_time": "2024-07-18T16:00:33.204700Z",
     "start_time": "2024-07-18T16:00:32.949107Z"
    }
   },
   "cell_type": "code",
   "source": [
    "import torch\n",
    "from torch.nn import Conv2d, MaxPool2d, MaxPool2d, Linear, Flatten, Module\n",
    "from torch.utils.tensorboard import SummaryWriter\n"
   ],
   "id": "fcde42206395ddf2",
   "outputs": [],
   "execution_count": 9
  },
  {
   "metadata": {},
   "cell_type": "markdown",
   "source": "## 逐层定义网络模型",
   "id": "c0e0b83b5b3519e7"
  },
  {
   "metadata": {
    "ExecuteTime": {
     "end_time": "2024-07-18T16:00:33.220855Z",
     "start_time": "2024-07-18T16:00:33.210345Z"
    }
   },
   "cell_type": "code",
   "source": [
    "class Net(torch.nn.Module):\n",
    "    def __init__(self):\n",
    "        super().__init__()\n",
    "        # 输入数据格式为(3,32,32) 第一个值为通道数目\n",
    "        # 已知输入格式和输出格式，通过卷积公式计算padding和stride\n",
    "        self.conv1 = torch.nn.Conv2d(3, 32, 5, padding=2)\n",
    "        # 第一次卷积后的格式为(32,32,32)\n",
    "        self.maxpooling1 = torch.nn.MaxPool2d(kernel_size=2)\n",
    "        # 池化后的格式为(32,16,16)\n",
    "        self.conv2 = torch.nn.Conv2d(32, 32, 5, padding=2)\n",
    "        # 卷积后的尺寸是(32,16,16)\n",
    "        self.maxpooling2 = torch.nn.MaxPool2d(kernel_size=2)\n",
    "        # 池化后的尺寸是(32,8,8)\n",
    "        self.conv3 = torch.nn.Conv2d(32, 64, 5, padding=2)\n",
    "        # 卷积后的尺寸是(64,8,8)\n",
    "        self.maxpooling3 = torch.nn.MaxPool2d(kernel_size=2)\n",
    "        # 池化后是(64,4,4)\n",
    "        self.flatten = torch.nn.Flatten()\n",
    "        self.linear1 = torch.nn.Linear(in_features=1024, out_features=64)\n",
    "        self.linear2 = torch.nn.Linear(64, 10)\n",
    "\n",
    "    def forward(self, x):\n",
    "        x = self.conv1(x)\n",
    "        x = self.maxpooling1(x)\n",
    "        x = self.conv2(x)\n",
    "        x = self.maxpooling2(x)\n",
    "        x = self.conv3(x)\n",
    "        x = self.maxpooling3(x)\n",
    "        x = self.flatten(x)\n",
    "        x = self.linear1(x)\n",
    "        y = self.linear2(x)\n",
    "        return y\n"
   ],
   "id": "7bfc47d174bedacc",
   "outputs": [],
   "execution_count": 10
  },
  {
   "metadata": {},
   "cell_type": "markdown",
   "source": "如果对于数据的格式不是很确定，可以逐层测试模型的输出结果。\n",
   "id": "c95063cdc8de0a43"
  },
  {
   "metadata": {
    "ExecuteTime": {
     "end_time": "2024-07-18T16:00:33.251761Z",
     "start_time": "2024-07-18T16:00:33.222505Z"
    }
   },
   "cell_type": "code",
   "source": [
    "n = Net()\n",
    "print(f'>> print Net obj: n = {n}')\n",
    "\n",
    "\n",
    "# 检验网络（尺寸）数据是否合理\n",
    "input = torch.ones((64, 3, 32, 32))\n",
    "output = n(input)\n",
    "print(f'>> output.shape: {output.shape}')\n",
    "# print(f'>> output: {output}')\n"
   ],
   "id": "f0b1d351e6d992a7",
   "outputs": [
    {
     "name": "stdout",
     "output_type": "stream",
     "text": [
      ">> print Net obj: n = Net(\n",
      "  (conv1): Conv2d(3, 32, kernel_size=(5, 5), stride=(1, 1), padding=(2, 2))\n",
      "  (maxpooling1): MaxPool2d(kernel_size=2, stride=2, padding=0, dilation=1, ceil_mode=False)\n",
      "  (conv2): Conv2d(32, 32, kernel_size=(5, 5), stride=(1, 1), padding=(2, 2))\n",
      "  (maxpooling2): MaxPool2d(kernel_size=2, stride=2, padding=0, dilation=1, ceil_mode=False)\n",
      "  (conv3): Conv2d(32, 64, kernel_size=(5, 5), stride=(1, 1), padding=(2, 2))\n",
      "  (maxpooling3): MaxPool2d(kernel_size=2, stride=2, padding=0, dilation=1, ceil_mode=False)\n",
      "  (flatten): Flatten(start_dim=1, end_dim=-1)\n",
      "  (linear1): Linear(in_features=1024, out_features=64, bias=True)\n",
      "  (linear2): Linear(in_features=64, out_features=10, bias=True)\n",
      ")\n",
      ">> output.shape: torch.Size([64, 10])\n"
     ]
    }
   ],
   "execution_count": 11
  },
  {
   "metadata": {},
   "cell_type": "markdown",
   "source": [
    "## 定义Sequential\n",
    "\n",
    "通过定义一个Sequential，简化网络层定义以及forward函数的定义。\n",
    "\n"
   ],
   "id": "986e99e07fa247f0"
  },
  {
   "metadata": {
    "ExecuteTime": {
     "end_time": "2024-07-18T16:00:33.266821Z",
     "start_time": "2024-07-18T16:00:33.253272Z"
    }
   },
   "cell_type": "code",
   "source": [
    "class Net(Module):\n",
    "    def __init__(self):\n",
    "        super().__init__()\n",
    "        self.model = torch.nn.Sequential(\n",
    "            Conv2d(3,32,5,padding=2),\n",
    "            MaxPool2d(2),\n",
    "            Conv2d(32,32,5,padding=2),\n",
    "            MaxPool2d(2),\n",
    "            Conv2d(32,64,5,padding=2),\n",
    "            MaxPool2d(2),\n",
    "            Flatten(),\n",
    "            Linear(1024,64),\n",
    "            Linear(64,10)\n",
    "        )\n",
    "    \n",
    "    def forward(self, x):\n",
    "        y = self.model(x)\n",
    "        return y\n"
   ],
   "id": "7a36b304dc9ba49d",
   "outputs": [],
   "execution_count": 12
  },
  {
   "metadata": {},
   "cell_type": "markdown",
   "source": "通过Tensorboard也可以进行可视化\n",
   "id": "42ef013f0c1a905e"
  },
  {
   "metadata": {
    "ExecuteTime": {
     "end_time": "2024-07-18T16:00:33.783486Z",
     "start_time": "2024-07-18T16:00:33.269824Z"
    }
   },
   "cell_type": "code",
   "source": [
    "writer = SummaryWriter(log_dir='../logs')\n",
    "\n",
    "x = torch.ones((64, 3, 32, 32))\n",
    "y = n(x)\n",
    "print(f'>> y.shape: {y.shape}')\n",
    "\n",
    "writer.add_graph(n, x)\n",
    "writer.close()\n"
   ],
   "id": "2e0e4aa231f33106",
   "outputs": [
    {
     "name": "stdout",
     "output_type": "stream",
     "text": [
      ">> y.shape: torch.Size([64, 10])\n"
     ]
    }
   ],
   "execution_count": 13
  }
 ],
 "metadata": {
  "kernelspec": {
   "display_name": "Python 3",
   "language": "python",
   "name": "python3"
  },
  "language_info": {
   "codemirror_mode": {
    "name": "ipython",
    "version": 2
   },
   "file_extension": ".py",
   "mimetype": "text/x-python",
   "name": "python",
   "nbconvert_exporter": "python",
   "pygments_lexer": "ipython2",
   "version": "2.7.6"
  }
 },
 "nbformat": 4,
 "nbformat_minor": 5
}
